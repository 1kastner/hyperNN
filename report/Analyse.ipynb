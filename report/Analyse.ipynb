{
 "cells": [
  {
   "cell_type": "markdown",
   "metadata": {
    "deletable": true,
    "editable": true
   },
   "source": [
    "# Analyse hyperOpal"
   ]
  },
  {
   "cell_type": "code",
   "execution_count": 8,
   "metadata": {
    "collapsed": true,
    "deletable": true,
    "editable": true
   },
   "outputs": [],
   "source": [
    "import json\n",
    "import matplotlib.pyplot as plt\n",
    "import numpy as np\n",
    "from sklearn.decomposition import PCA\n",
    "from __future__ import print_function\n",
    "from ipywidgets import interact, interactive, fixed, interact_manual\n",
    "import ipywidgets as widgets"
   ]
  },
  {
   "cell_type": "code",
   "execution_count": 13,
   "metadata": {
    "collapsed": false,
    "deletable": true,
    "editable": true
   },
   "outputs": [],
   "source": [
    "with open(\"log/runnee.log\", \"r\") as f:\n",
    "    lines = f.readlines()\n",
    "    lines = map(lambda l: \" - \".join(l.split(\" - \")[1:]).strip(), lines)\n",
    "    params = map(lambda l: json.loads(l), lines)\n",
    "\n",
    "    acc = map(lambda a: float(a[\"Accuracy\"]), params)"
   ]
  },
  {
   "cell_type": "code",
   "execution_count": 21,
   "metadata": {
    "collapsed": false,
    "deletable": true,
    "editable": true
   },
   "outputs": [
    {
     "data": {
      "image/png": "[encoded data removed]",
      "text/plain": [
       "<matplotlib.figure.Figure at 0x10bae0490>"
      ]
     },
     "metadata": {},
     "output_type": "display_data"
    }
   ],
   "source": [
    "max_acc = [100 * max(acc[:i+1]) for i in xrange(len(acc))]\n",
    "\n",
    "plt.plot(max_acc, color=\"g\", linewidth=2.5)\n",
    "plt.title(\"Meilleure precision\")\n",
    "plt.xlabel(\"Iterations\")\n",
    "# plt.plot(100*np.array(acc), color='gray')\n",
    "plt.savefig(\"acc.eps\", format=\"eps\")\n",
    "plt.xlim(0, 150)\n",
    "plt.show()"
   ]
  },
  {
   "cell_type": "code",
   "execution_count": 86,
   "metadata": {
    "collapsed": false,
    "deletable": true,
    "editable": true
   },
   "outputs": [
    {
     "data": {
      "text/plain": [
       "0.9668"
      ]
     },
     "execution_count": 86,
     "metadata": {},
     "output_type": "execute_result"
    }
   ],
   "source": []
  },
  {
   "cell_type": "code",
   "execution_count": 110,
   "metadata": {
    "collapsed": true,
    "deletable": true,
    "editable": true
   },
   "outputs": [],
   "source": [
    "params_num = np.array(map(\n",
    "        lambda p: [p[\"decay\"], p[\"learning_rate\"], p[\"moment\"],\n",
    "                   p[\"reg_l1\"], p[\"reg_l2\"], \n",
    "                   0 if p[\"n_couches\"] <= 0 else p[\"noeuds\"][0],\n",
    "                   0 if p[\"n_couches\"] <= 1 else p[\"noeuds\"][1],\n",
    "                   0 if p[\"n_couches\"] <= 2 else p[\"noeuds\"][2]\n",
    "                  ]\n",
    "        ,params\n",
    "    ))\n",
    "params_num_norm = np.transpose(np.copy(params_num))\n",
    "for c in params_num_norm:\n",
    "    c /= np.std(params_num_norm)\n",
    "params_num_norm = np.transpose(params_num_norm)"
   ]
  },
  {
   "cell_type": "code",
   "execution_count": 106,
   "metadata": {
    "collapsed": false,
    "deletable": true,
    "editable": true
   },
   "outputs": [],
   "source": [
    "X = PCA(n_components=2).fit_transform(params_num_norm)"
   ]
  },
  {
   "cell_type": "code",
   "execution_count": 107,
   "metadata": {
    "collapsed": false,
    "deletable": true,
    "editable": true
   },
   "outputs": [
    {
     "data": {
      "image/png": "[encoded data removed]",
      "text/plain": [
       "<matplotlib.figure.Figure at 0x10de40e10>"
      ]
     },
     "metadata": {},
     "output_type": "display_data"
    }
   ],
   "source": [
    "plt.plot(X[:,0], X[:,1])\n",
    "plt.show()"
   ]
  },
  {
   "cell_type": "code",
   "execution_count": 129,
   "metadata": {
    "collapsed": false,
    "deletable": true,
    "editable": true
   },
   "outputs": [],
   "source": [
    "def f(column):\n",
    "    plt.plot(map(lambda p: p[column], params))\n",
    "    plt.plot(np.ones(len(params)) * {\"learning_rate\":.001, \"decay\":1e-6, \"moment\":.01, \"reg_l1\":.0001, \"reg_l2\":.0001}[column])\n",
    "    plt.show()"
   ]
  },
  {
   "cell_type": "code",
   "execution_count": 130,
   "metadata": {
    "collapsed": false,
    "deletable": true,
    "editable": true
   },
   "outputs": [
    {
     "data": {
      "image/png": "[encoded data removed]",
      "text/plain": [
       "<matplotlib.figure.Figure at 0x10e083ed0>"
      ]
     },
     "metadata": {},
     "output_type": "display_data"
    }
   ],
   "source": [
    "interact(f, column=(\"learning_rate\", \"decay\", \"moment\", \"reg_l1\", \"reg_l2\"))"
   ]
  },
  {
   "cell_type": "code",
   "execution_count": null,
   "metadata": {
    "collapsed": true,
    "deletable": true,
    "editable": true
   },
   "outputs": [],
   "source": []
  }
 ],
 "metadata": {
  "kernelspec": {
   "display_name": "Python 2",
   "language": "python",
   "name": "python2"
  },
  "language_info": {
   "codemirror_mode": {
    "name": "ipython",
    "version": 2
   },
   "file_extension": ".py",
   "mimetype": "text/x-python",
   "name": "python",
   "nbconvert_exporter": "python",
   "pygments_lexer": "ipython2",
   "version": "2.7.13"
  }
 },
 "nbformat": 4,
 "nbformat_minor": 2
}
